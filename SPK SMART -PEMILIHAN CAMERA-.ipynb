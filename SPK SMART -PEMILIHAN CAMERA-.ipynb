{
 "cells": [
  {
   "cell_type": "code",
   "execution_count": null,
   "metadata": {},
   "outputs": [],
   "source": [
    "\"\"\"\n",
    "Metode SPK (SMART)\n",
    "1. Contoh Data / Penentuan Data\n",
    "2. Penentuan Bobot Kriteria [45, 25, 15 , 10, 5] atau [0.45 * 100, 0.25 * 100, 0.15 * 100 , 0.1 * 100, 0.05 * 100] (Hasil tetep sama walau pakai salah satu dari keduanya)\n",
    "3. Normalisasi Bobot Kriteria\n",
    "4. Penentuan Nilai Parameter (Jika nilai data bukan kuantitatif) namun karena data pemilihan kamera kuantiatif sehingga tidak perlu diberi nilai parameter lagi\n",
    "5. Menghitung Nilai Utility seluruh Kriteria\n",
    "6. Menghitung Nilai Akhir\n",
    "7. Perangkingan\n",
    "\"\"\""
   ]
  },
  {
   "cell_type": "code",
   "execution_count": null,
   "metadata": {},
   "outputs": [],
   "source": [
    "\"\"\"\n",
    "Sumber Metode mengikuti cara/pola pada sebuah website : https://cahyadsn.phpindonesia.id/extra/smart.php\n",
    "\n",
    "-Daftar Pustaka-\n",
    "1. Afandi. (2009). Analisis Studi Kelayakan Usaha Pengembangan Usaha Distribusi PT. Aneka Andalan Karya. Fakultas Ekonomi, Universitas Gunadarma\n",
    "2. Dewi,N. K., Yadnya, I.P. (2013).Studi Kelayakan Usaha dari Aspek Finansial untuk Pendirian Naya Salon Denpasar\n",
    "3. Diana Sistem Pendukung Keputusan Menentukan Kelayakan Bisnis Menerapkan Simple Multi Attribute Rating Technique (SMART) Jurnal Ilmiah MATRIK, Vol 18 No 2, p. 113-124\n",
    "4. Edwards, W. (1971). Social utilityes. The Engineering Economist Summer Symposium Series 6, 119–129.\n",
    "5. Edwards, W. (1977). How to use multiattribute utility measurement for social decisionmaking. IEEE Transactions on Systems, Man, and Cybernetics SMC-7:5, 326–340.\n",
    "6. Edwards W.; Barron F H(1994)SMARTS and SMARTER: improved simple methods for multiattribute utility measurement, Organizational Behavior and Human Decision Processes 60(3):306-325 · February 1994\n",
    "7. Filho, A. T. (2005). Decision-making (Technology application) & Decision-making (Case studies).\n",
    "8. Goodwin, P., Wright, G. (2004).Decision Analysis For Management Judgment, 3rd edition. NewYork : John Wiley & Sons\n",
    "9. Suryanto, M. Safrizal. (2015). Sistem Pendukung Keputusan Pemilihan Karyawan Teladan dengan Metode SMART (Simple Multi Attribute Rating Technique). Jurnal CoreIT, Vol. 1, No.2 Desember, p.25-29.\n",
    "10.Kusumadewi, S., Hartati, S., Harjoko, A., dan Wardoyo, R. (2006). Fuzzy Multi-Atribute Decision Making (FUZZY MADM). Yogyakarta: Penerbit Graha Ilmu.\n",
    "\"\"\""
   ]
  },
  {
   "cell_type": "code",
   "execution_count": 1,
   "metadata": {},
   "outputs": [],
   "source": [
    "# Import Library untuk Membaca Excel dan Menulis Excel\n",
    "import pandas as pd\n",
    "from pandas import ExcelWriter\n",
    "from pandas import ExcelFile\n",
    "import math"
   ]
  },
  {
   "cell_type": "code",
   "execution_count": 2,
   "metadata": {},
   "outputs": [],
   "source": [
    "# 1. Penentuan Dataset\n",
    "# Pada kriteria : Harga, Lensa, Memori, Berat, Model\n",
    "test_gelombang_one = pd.read_excel('pemilihan camera.xlsx')"
   ]
  },
  {
   "cell_type": "code",
   "execution_count": 3,
   "metadata": {},
   "outputs": [
    {
     "name": "stdout",
     "output_type": "stream",
     "text": [
      "['CAMERA1' 'CAMERA2' 'CAMERA3']\n",
      "\n",
      "['Harga' 'Lensa' 'Memori' 'Berat' 'Model']\n"
     ]
    }
   ],
   "source": [
    "# Dapatkan Header alias Nama setiap file\n",
    "tA = pd.read_excel('pemilihan camera.xlsx').columns\n",
    "print(tA.values[1:])\n",
    "\n",
    "print()\n",
    "\n",
    "# Dapatkan Column disetiap atau Kriterianya\n",
    "tB = test_gelombang_one.iloc[:,0].values\n",
    "print(tB)"
   ]
  },
  {
   "cell_type": "code",
   "execution_count": 4,
   "metadata": {},
   "outputs": [
    {
     "name": "stdout",
     "output_type": "stream",
     "text": [
      "   CAMERA1  CAMERA2  CAMERA3\n",
      "0      100       80       90\n",
      "1       80       80       90\n",
      "2       80       80       90\n",
      "3       90       90       90\n",
      "4       90       90       90\n",
      "\n",
      "[[100  80  90]\n",
      " [ 80  80  90]\n",
      " [ 80  80  90]\n",
      " [ 90  90  90]\n",
      " [ 90  90  90]]\n"
     ]
    }
   ],
   "source": [
    "# Ambil seluruh data dan lakukan konversi jika perlu\n",
    "print(test_gelombang_one.iloc[:, 1:])\n",
    "dataTestValues = test_gelombang_one.iloc[:, 1:].values\n",
    "dataTest = test_gelombang_one.iloc[:, 1:].values\n",
    "\n",
    "print()        \n",
    "print(dataTestValues)"
   ]
  },
  {
   "cell_type": "code",
   "execution_count": 5,
   "metadata": {},
   "outputs": [],
   "source": [
    "# 2. Penentuan BOBOT\n",
    "\"\"\"\n",
    "Karena setiap kriteria (Harga, Lensa, Memori, Berat, Model) harus memiliki bobot\n",
    "berhubung karena bobot setiap test sudah ditentukan oleh Bu Indah maka :\n",
    "Harga bobot nya : 0.45 * 100 = 45 --> 1 sd 100\n",
    "Lensa bobotnya : 0.25 * 100 = 25 --> 1 sd 100\n",
    "Memori bobotnya : 0.15 * 100 = 15 --> 1 sd 100\n",
    "Berat bobotnya : 0.1 * 100 = 10 --> 1 sd 100\n",
    "Model bobotnya : 0.05 * 100 = 5 --> 1 sd 100\n",
    "\"\"\" \n",
    "# bobotCriteria = [0.45, 0.25, 0.15 , 0.1, 0.05] # Penentuan bobot\n",
    "# atau\n",
    "bobotCriteria = [0.45 * 100, 0.25 * 100, 0.15 * 100 , 0.1 * 100, 0.05 * 100] # Penentuan bobot"
   ]
  },
  {
   "cell_type": "code",
   "execution_count": 6,
   "metadata": {},
   "outputs": [],
   "source": [
    "# 3. Normalisasi Bobot Kriteria\n",
    "for i in range(len(bobotCriteria)) :\n",
    "    bobotCriteria[i] = bobotCriteria[i] / sum(bobotCriteria)"
   ]
  },
  {
   "cell_type": "code",
   "execution_count": 7,
   "metadata": {},
   "outputs": [
    {
     "name": "stdout",
     "output_type": "stream",
     "text": [
      "[[100  80  90]\n",
      " [ 80  80  90]\n",
      " [ 80  80  90]\n",
      " [ 90  90  90]\n",
      " [ 90  90  90]]\n",
      "\n",
      "[[0, 0, 0], [0, 0, 0], [0, 0, 0], [0, 0, 0], [0, 0, 0]]\n"
     ]
    }
   ],
   "source": [
    "# Simpan Data untuk Selanjutnya\n",
    "saveTestConversion = test_gelombang_one.iloc[:, 1:].values\n",
    "saveTest = test_gelombang_one.iloc[:, 1:].values\n",
    "print(saveTest)\n",
    "\n",
    "print()\n",
    "\n",
    "# Buat Sistem menjadi list multidimensional\n",
    "jumlahRow = test_gelombang_one.count(axis = 1)[1] - 1\n",
    "jumlahColumn = test_gelombang_one.count(axis = 0)[1]\n",
    "saveDataTest = [[0] * jumlahRow for i in range(jumlahColumn)]\n",
    "print(saveDataTest)\n"
   ]
  },
  {
   "cell_type": "code",
   "execution_count": 8,
   "metadata": {},
   "outputs": [
    {
     "name": "stdout",
     "output_type": "stream",
     "text": [
      "[[19.200000000000003, 0.7999999999999972, 9.200000000000003], [0.8888888888888857, 0.8888888888888857, 9.111111111111114], [0.8888888888888857, 0.8888888888888857, 9.111111111111114], [1.0, 1.0, 1.0], [1.0, 1.0, 1.0]]\n"
     ]
    }
   ],
   "source": [
    "# 5. Menghitung Nilai Utility Per Kriteria\n",
    "listTemporary = []\n",
    "simpanTemporary = []\n",
    "for i in range(len(saveTestConversion)):\n",
    "    numberMax = max(saveTestConversion[i])\n",
    "    numberMin = min(saveTestConversion[i])\n",
    "#     print(saveTestConversion[i])\n",
    "    for j in range(len(saveTestConversion[i])):\n",
    "        saveDataTest[i][j] = abs(float(saveTestConversion[i][j]) - float(numberMin) / float(numberMax) - float(numberMin))\n",
    "print(saveDataTest)"
   ]
  },
  {
   "cell_type": "code",
   "execution_count": 9,
   "metadata": {},
   "outputs": [],
   "source": [
    "# Simpan menjadi sebuah file Excel dari Penilain Utility\n",
    "dftA = pd.DataFrame(tA)\n",
    "dftA = dftA.transpose()\n",
    "dftB = pd.DataFrame(tB)\n",
    "dfSaveDataTest = pd.DataFrame(saveDataTest)\n",
    "writer = ExcelWriter('Result SMART\\\\penilaian utility.xlsx')\n",
    "dftA.to_excel(writer,'Sheet1',index=False,header=False)\n",
    "dftB.to_excel(writer,'Sheet1',index=False,header=False,startrow=1)\n",
    "dfSaveDataTest.to_excel(writer,'Sheet1',index=False,header=False,startrow=1,startcol=1)\n",
    "writer.save()"
   ]
  },
  {
   "cell_type": "code",
   "execution_count": 10,
   "metadata": {},
   "outputs": [
    {
     "name": "stdout",
     "output_type": "stream",
     "text": [
      "[[8.640000000000002, 0.3599999999999987, 4.1400000000000015], [0.4007614467488213, 0.4007614467488213, 4.107804829175435], [0.4314874986807809, 0.4314874986807809, 4.422746861478021], [0.610266635330409, 0.610266635330409, 0.610266635330409], [0.7146382658688514, 0.7146382658688514, 0.7146382658688514]]\n"
     ]
    }
   ],
   "source": [
    "# Proses Menghitung Nilai Akhir\n",
    "for i in range(len(saveDataTest)) :\n",
    "    for j in range(len(saveDataTest[i])) :\n",
    "        saveDataTest[i][j] = saveDataTest[i][j] * bobotCriteria[i]\n",
    "            \n",
    "print(saveDataTest)"
   ]
  },
  {
   "cell_type": "code",
   "execution_count": 11,
   "metadata": {},
   "outputs": [],
   "source": [
    "# Simpan menjadi sebuah file Excel dari Menghitung Nilai Akhir\n",
    "dftA = pd.DataFrame(tA)\n",
    "dftA = dftA.transpose()\n",
    "dftB = pd.DataFrame(tB)\n",
    "dfSaveDataTest = pd.DataFrame(saveDataTest)\n",
    "writer = ExcelWriter('Result SMART\\\\penilaian akhir.xlsx')\n",
    "dftA.to_excel(writer,'Sheet1',index=False,header=False)\n",
    "dftB.to_excel(writer,'Sheet1',index=False,header=False,startrow=1)\n",
    "dfSaveDataTest.to_excel(writer,'Sheet1',index=False,header=False,startrow=1,startcol=1)\n",
    "writer.save()"
   ]
  },
  {
   "cell_type": "code",
   "execution_count": 12,
   "metadata": {},
   "outputs": [],
   "source": [
    "# Ambil seluruh data dari Excel mengenai nilai akhir \n",
    "test_preferensi = pd.read_excel('Result SMART\\\\penilaian akhir.xlsx')"
   ]
  },
  {
   "cell_type": "code",
   "execution_count": 13,
   "metadata": {},
   "outputs": [
    {
     "name": "stdout",
     "output_type": "stream",
     "text": [
      "Hasil dari CAMERA1 adalah 10.797153846628866\n",
      "Hasil dari CAMERA2 adalah 2.517153846628861\n",
      "Hasil dari CAMERA3 adalah 13.995456591852719\n"
     ]
    }
   ],
   "source": [
    "# 6. Hitung seluruh nilai akhir\n",
    "listSort = {}\n",
    "listSumDividerX = []\n",
    "for i in range(test_preferensi.count(axis = 1)[1]-1) :\n",
    "    listSort.update({tA.values[1:][i] : str(test_preferensi.iloc[:, 1:].sum(axis = 0)[i]) })\n",
    "    listSumDividerX.append(test_preferensi.iloc[:, 1:].sum(axis = 0)[i])\n",
    "    print(\"Hasil dari \"+tA.values[1:][i]+\" adalah \"+str(test_preferensi.iloc[:, 1:].sum(axis = 0)[i]))"
   ]
  },
  {
   "cell_type": "code",
   "execution_count": 28,
   "metadata": {},
   "outputs": [
    {
     "name": "stdout",
     "output_type": "stream",
     "text": [
      "Rangking PEMILIHAN CAMERA :\n",
      "\n",
      "Hasil dari CAMERA3 adalah 13.995456591852719\n",
      "Hasil dari CAMERA1 adalah 10.797153846628866\n",
      "Hasil dari CAMERA2 adalah 2.517153846628861\n"
     ]
    },
    {
     "data": {
      "text/plain": [
       "{None}"
      ]
     },
     "execution_count": 28,
     "metadata": {},
     "output_type": "execute_result"
    }
   ],
   "source": [
    "# 7. Perangkingan Camera\n",
    "print(\"Rangking PEMILIHAN CAMERA :\")\n",
    "print()\n",
    "{ print(\"Hasil dari \"+str(k)+\" adalah \"+str(v)) for k, v in sorted(listSort.items(), reverse = True ,key=lambda item: item[1][1])}"
   ]
  }
 ],
 "metadata": {
  "kernelspec": {
   "display_name": "Python 3",
   "language": "python",
   "name": "python3"
  },
  "language_info": {
   "codemirror_mode": {
    "name": "ipython",
    "version": 3
   },
   "file_extension": ".py",
   "mimetype": "text/x-python",
   "name": "python",
   "nbconvert_exporter": "python",
   "pygments_lexer": "ipython3",
   "version": "3.6.5"
  }
 },
 "nbformat": 4,
 "nbformat_minor": 2
}
