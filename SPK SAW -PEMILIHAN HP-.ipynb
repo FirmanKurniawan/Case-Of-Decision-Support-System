{
 "cells": [
  {
   "cell_type": "code",
   "execution_count": null,
   "metadata": {},
   "outputs": [],
   "source": [
    "\"\"\"\n",
    "Metode SPK (SAW)\n",
    "\"\"\""
   ]
  },
  {
   "cell_type": "code",
   "execution_count": 1,
   "metadata": {},
   "outputs": [],
   "source": [
    "# Begin to code\n",
    "\n",
    "import pandas as pd\n",
    "from pandas import ExcelWriter\n",
    "from pandas import ExcelFile\n",
    "import math"
   ]
  },
  {
   "cell_type": "code",
   "execution_count": 2,
   "metadata": {},
   "outputs": [],
   "source": [
    "# Pada kriteria : Harga, Kamera, Memori, Berat, Unik\n",
    "test_gelombang_one = pd.read_excel('penilaian hp saw.xlsx')"
   ]
  },
  {
   "cell_type": "code",
   "execution_count": 3,
   "metadata": {},
   "outputs": [
    {
     "name": "stdout",
     "output_type": "stream",
     "text": [
      "['HP 1' 'HP 2' 'HP 3']\n",
      "\n",
      "['Harga' 'Kamera' 'Memori' 'Berat' 'Unik']\n"
     ]
    }
   ],
   "source": [
    "# Dapatkan Header alias Nama setiap file\n",
    "tA = pd.read_excel('penilaian hp saw.xlsx').columns\n",
    "print(tA.values[1:])\n",
    "\n",
    "print()\n",
    "\n",
    "# Dapatkan Column disetiap atau Kriterianya\n",
    "tB = test_gelombang_one.iloc[:,0].values\n",
    "print(tB)"
   ]
  },
  {
   "cell_type": "code",
   "execution_count": 4,
   "metadata": {},
   "outputs": [
    {
     "name": "stdout",
     "output_type": "stream",
     "text": [
      "   HP 1  HP 2  HP 3\n",
      "0    80    80    90\n",
      "1    70    80    70\n",
      "2    80    70    80\n",
      "3    70    70    70\n",
      "4    90    90    80\n",
      "\n",
      "[[80 80 90]\n",
      " [70 80 70]\n",
      " [80 70 80]\n",
      " [70 70 70]\n",
      " [90 90 80]]\n"
     ]
    }
   ],
   "source": [
    "# Ambil seluruh data dan lakukan konversi\n",
    "print(test_gelombang_one.iloc[:, 1:])\n",
    "dataTestValues = test_gelombang_one.iloc[:, 1:].values\n",
    "dataTest = test_gelombang_one.iloc[:, 1:].values\n",
    "\n",
    "print()        \n",
    "print(dataTestValues)"
   ]
  },
  {
   "cell_type": "code",
   "execution_count": 5,
   "metadata": {},
   "outputs": [],
   "source": [
    "\"\"\"\n",
    "Karena setiap kriteria (Harga, Kamera, Memori, Berat, Unik) harus memiliki bobot\n",
    "berhubung karena bobot setiap test sudah ditentukan oleh Bu Indah maka :\n",
    "Harga bobot nya : 0.45\n",
    "Kamera bobotnya : 0.25\n",
    "Memori bobotnya : 0.15\n",
    "Berat bobotnya : 0.1\n",
    "Unik bobotnya : 0.05\n",
    "\"\"\" \n",
    "bobotCriteria = [0.45, 0.25, 0.15 , 0.1, 0.05] # Penentuan bobot"
   ]
  },
  {
   "cell_type": "code",
   "execution_count": 6,
   "metadata": {},
   "outputs": [
    {
     "name": "stdout",
     "output_type": "stream",
     "text": [
      "[[80 80 90]\n",
      " [70 80 70]\n",
      " [80 70 80]\n",
      " [70 70 70]\n",
      " [90 90 80]]\n",
      "\n",
      "[[0, 0, 0], [0, 0, 0], [0, 0, 0], [0, 0, 0], [0, 0, 0]]\n"
     ]
    }
   ],
   "source": [
    "# Simpan Data untuk Selanjutnya\n",
    "saveTestConversion = test_gelombang_one.iloc[:, 1:].values\n",
    "saveTest = test_gelombang_one.iloc[:, 1:].values\n",
    "print(saveTest)\n",
    "\n",
    "print()\n",
    "\n",
    "# Buat Sistem menjadi list multidimensional\n",
    "jumlahRow = test_gelombang_one.count(axis = 1)[1] - 1\n",
    "jumlahColumn = test_gelombang_one.count(axis = 0)[1]\n",
    "saveDataTest = [[0] * jumlahRow for i in range(jumlahColumn)]\n",
    "print(saveDataTest)\n"
   ]
  },
  {
   "cell_type": "code",
   "execution_count": 7,
   "metadata": {},
   "outputs": [
    {
     "name": "stdout",
     "output_type": "stream",
     "text": [
      "[[0.8888888888888888, 0.8888888888888888, 1.0], [0.875, 1.0, 0.875], [1.0, 0.875, 1.0], [1.0, 1.0, 1.0], [1.0, 1.0, 0.8888888888888888]]\n"
     ]
    }
   ],
   "source": [
    "# Proses Menghitung Nilai Vector S\n",
    "for i in range(len(saveTestConversion)) :\n",
    "    numberMax = max(test_gelombang_one.iloc[i,1:].values)\n",
    "    for j in range(len(saveTestConversion[i])) :\n",
    "        saveDataTest[i][j] = saveTestConversion[i][j] / numberMax\n",
    "            \n",
    "print(saveDataTest)"
   ]
  },
  {
   "cell_type": "code",
   "execution_count": 8,
   "metadata": {},
   "outputs": [],
   "source": [
    "# Simpan menjadi sebuah file Excel dari Normalized dan Nilai Vektor S\n",
    "dftA = pd.DataFrame(tA)\n",
    "dftA = dftA.transpose()\n",
    "dftB = pd.DataFrame(tB)\n",
    "dfSaveDataTest = pd.DataFrame(saveDataTest)\n",
    "writer = ExcelWriter('Result SAW\\\\penilaian normalized.xlsx')\n",
    "dftA.to_excel(writer,'Sheet1',index=False,header=False)\n",
    "dftB.to_excel(writer,'Sheet1',index=False,header=False,startrow=1)\n",
    "dfSaveDataTest.to_excel(writer,'Sheet1',index=False,header=False,startrow=1,startcol=1)\n",
    "writer.save()"
   ]
  },
  {
   "cell_type": "code",
   "execution_count": 9,
   "metadata": {},
   "outputs": [
    {
     "name": "stdout",
     "output_type": "stream",
     "text": [
      "[[0.39999999999999997, 0.39999999999999997, 0.45], [0.21875, 0.25, 0.21875], [0.15, 0.13125, 0.15], [0.1, 0.1, 0.1], [0.05, 0.05, 0.044444444444444446]]\n"
     ]
    }
   ],
   "source": [
    "# Proses Menghitung Nilai Vector S\n",
    "for i in range(len(saveDataTest)) :\n",
    "    for j in range(len(saveDataTest[i])) :\n",
    "        saveDataTest[i][j] = saveDataTest[i][j] * bobotCriteria[i]\n",
    "            \n",
    "print(saveDataTest)"
   ]
  },
  {
   "cell_type": "code",
   "execution_count": 11,
   "metadata": {},
   "outputs": [],
   "source": [
    "# Simpan menjadi sebuah file Excel dari Normalized dan Nilai Vektor S\n",
    "dftA = pd.DataFrame(tA)\n",
    "dftA = dftA.transpose()\n",
    "dftB = pd.DataFrame(tB)\n",
    "dfSaveDataTest = pd.DataFrame(saveDataTest)\n",
    "writer = ExcelWriter('Result SAW\\\\penilaian preferensi.xlsx')\n",
    "dftA.to_excel(writer,'Sheet1',index=False,header=False)\n",
    "dftB.to_excel(writer,'Sheet1',index=False,header=False,startrow=1)\n",
    "dfSaveDataTest.to_excel(writer,'Sheet1',index=False,header=False,startrow=1,startcol=1)\n",
    "writer.save()"
   ]
  },
  {
   "cell_type": "code",
   "execution_count": 13,
   "metadata": {},
   "outputs": [],
   "source": [
    "# Get All Data at Excel Data\n",
    "test_preferensi = pd.read_excel('Result SAW\\\\penilaian preferensi.xlsx')"
   ]
  },
  {
   "cell_type": "code",
   "execution_count": 15,
   "metadata": {},
   "outputs": [
    {
     "name": "stdout",
     "output_type": "stream",
     "text": [
      "Hasil dari HP 1 adalah 0.9187500000000001\n",
      "Hasil dari HP 2 adalah 0.93125\n",
      "Hasil dari HP 3 adalah 0.9631944444444445\n"
     ]
    }
   ],
   "source": [
    "# Get Result\n",
    "listSumDividerX = []\n",
    "for i in range(test_preferensi.count(axis = 1)[1]-1) :\n",
    "    listSumDividerX.append(test_preferensi.iloc[:, 1:].sum(axis = 0)[i])\n",
    "    print(\"Hasil dari \"+tA.values[1:][i]+\" adalah \"+str(test_preferensi.iloc[:, 1:].sum(axis = 0)[i]))"
   ]
  }
 ],
 "metadata": {
  "kernelspec": {
   "display_name": "Python 3",
   "language": "python",
   "name": "python3"
  },
  "language_info": {
   "codemirror_mode": {
    "name": "ipython",
    "version": 3
   },
   "file_extension": ".py",
   "mimetype": "text/x-python",
   "name": "python",
   "nbconvert_exporter": "python",
   "pygments_lexer": "ipython3",
   "version": "3.6.5"
  }
 },
 "nbformat": 4,
 "nbformat_minor": 2
}
