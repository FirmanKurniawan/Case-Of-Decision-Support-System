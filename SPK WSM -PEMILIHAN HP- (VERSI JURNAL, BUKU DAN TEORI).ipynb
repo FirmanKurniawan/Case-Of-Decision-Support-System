{
 "cells": [
  {
   "cell_type": "code",
   "execution_count": null,
   "metadata": {},
   "outputs": [],
   "source": [
    "\"\"\"\n",
    "\n",
    "Jurnal Berasal atau Berjudul :\n",
    "PERBANDINGAN METODE WEIGHTED PRODUCT DAN WEIGHTED SUM MODEL DALAM PEMILIHAN PERGURUAN SWASTA TERBAIK JURUSAN KOMPUTER\n",
    "Penulis : Solikhun\n",
    "Asal : AMIK Tunas Bangsa Pematangsiantar\n",
    "\n",
    "\"\"\""
   ]
  },
  {
   "cell_type": "code",
   "execution_count": null,
   "metadata": {},
   "outputs": [],
   "source": [
    "# Begin to code\n",
    "\n",
    "import pandas as pd\n",
    "from pandas import ExcelWriter\n",
    "from pandas import ExcelFile\n",
    "import math"
   ]
  },
  {
   "cell_type": "code",
   "execution_count": null,
   "metadata": {},
   "outputs": [],
   "source": [
    "# Pada kriteria : Harga, Kamera, Memori, Berat, Unik\n",
    "test_gelombang_one = pd.read_excel('penilaian hp.xlsx')"
   ]
  },
  {
   "cell_type": "code",
   "execution_count": null,
   "metadata": {},
   "outputs": [],
   "source": [
    "# Dapatkan Header alias Nama setiap file\n",
    "tA = pd.read_excel('penilaian test tahap pertama.xlsx').columns\n",
    "print(tA.values[1:])\n",
    "\n",
    "print()\n",
    "\n",
    "# Dapatkan Column disetiap atau Kriterianya\n",
    "tB = test_gelombang_one.iloc[:,0].values\n",
    "print(tB)"
   ]
  },
  {
   "cell_type": "code",
   "execution_count": null,
   "metadata": {},
   "outputs": [],
   "source": [
    "def conversionAllNumberInput(conversion):\n",
    "    # Conversion for every number of test\n",
    "    if conversion == 'SB':\n",
    "        return 1\n",
    "    elif conversion == 'B':\n",
    "        return 0.75\n",
    "    elif conversion == 'CB':\n",
    "        return 0.5\n",
    "    elif conversion == 'TB':\n",
    "        return 0.25\n",
    "    elif conversion == 'STB':\n",
    "        return 0"
   ]
  },
  {
   "cell_type": "code",
   "execution_count": null,
   "metadata": {},
   "outputs": [],
   "source": [
    "# Ambil seluruh data dan lakukan konversi\n",
    "print(test_gelombang_one.iloc[:, 1:])\n",
    "dataTestValues = test_gelombang_one.iloc[:, 1:].values\n",
    "dataTest = test_gelombang_one.iloc[:, 1:].values\n",
    "\n",
    "print()        \n",
    "print(dataTestValues)\n",
    "\n",
    "# Konversi seluruh data sesuai range yang sudah ditentukan\n",
    "for i in range(len(dataTestValues)) :  \n",
    "    for j in range(len(dataTestValues[i])) :\n",
    "        dataTestValues[i][j] = conversionAllNumberInput(dataTestValues[i][j])\n",
    "\n",
    "print()        \n",
    "print(dataTestValues)"
   ]
  },
  {
   "cell_type": "code",
   "execution_count": null,
   "metadata": {},
   "outputs": [],
   "source": [
    "# Simpan menjadi sebuah file Excel\n",
    "dftA = pd.DataFrame(tA)\n",
    "dftA = dftA.transpose()\n",
    "dftB = pd.DataFrame(tB)\n",
    "dfConversion = pd.DataFrame(dataTestValues)\n",
    "writer = ExcelWriter('Result WSM\\konversi penilaian.xlsx')\n",
    "dftA.to_excel(writer,'Sheet1',index=False,header=False)\n",
    "dftB.to_excel(writer,'Sheet1',index=False,header=False,startrow=1)\n",
    "dfConversion.to_excel(writer,'Sheet1',index=False,header=False,startrow=1,startcol=1)\n",
    "writer.save()"
   ]
  },
  {
   "cell_type": "code",
   "execution_count": null,
   "metadata": {},
   "outputs": [],
   "source": [
    "\"\"\"\n",
    "Karena setiap kriteria (Harga, Kamera, Memori, Berat, Unik) harus memiliki bobot\n",
    "berhubung karena bobot setiap test sudah ditentukan oleh Bu Indah maka :\n",
    "Harga bobot nya : 0.45\n",
    "Kamera bobotnya : 0.25\n",
    "Memori bobotnya : 0.15\n",
    "Berat bobotnya : 0.1\n",
    "Unik bobotnya : 0.05\n",
    "\"\"\" \n",
    "bobotCriteria = [0.45, 0.25, 0.15 , 0.1, 0.05] # Penentuan bobot"
   ]
  },
  {
   "cell_type": "code",
   "execution_count": null,
   "metadata": {},
   "outputs": [],
   "source": [
    "# Hasil yang nilai yang telah dikonversikan\n",
    "test_gelombang_one_conversion = pd.read_excel('Result WSM\\konversi penilaian.xlsx')\n",
    "print(test_gelombang_one_conversion.iloc[:, 1:])"
   ]
  },
  {
   "cell_type": "code",
   "execution_count": null,
   "metadata": {},
   "outputs": [],
   "source": [
    "# Simpan Data untuk Selanjutnya\n",
    "saveTestConversion = test_gelombang_one_conversion.iloc[:, 1:].values\n",
    "saveTest = test_gelombang_one_conversion.iloc[:, 1:].values\n",
    "print(saveTest)\n",
    "\n",
    "print()\n",
    "\n",
    "# Buat Sistem menjadi list multidimensional\n",
    "jumlahRow = test_gelombang_one_conversion.count(axis = 1)[1] - 1\n",
    "jumlahColumn = test_gelombang_one_conversion.count(axis = 0)[1]\n",
    "saveDataTest = [[0] * jumlahRow for i in range(jumlahColumn)]\n",
    "print(saveDataTest)"
   ]
  },
  {
   "cell_type": "code",
   "execution_count": null,
   "metadata": {},
   "outputs": [],
   "source": [
    "# Proses ini dilewatkan karena nilai yang sudah dijadikan bobot seharusnya sudah normalisasi\n",
    "\n",
    "# Proses Normalisasi\n",
    "# for i in range(len(saveTest)) :\n",
    "#     bobotCriteria[i] = bobotCriteria[i] / sum(bobotCriteria)\n",
    "# print(bobotCriteria) "
   ]
  },
  {
   "cell_type": "code",
   "execution_count": null,
   "metadata": {},
   "outputs": [],
   "source": [
    "# Proses Menghitung Nilai Vector S\n",
    "for i in range(len(saveTestConversion)) :\n",
    "    for j in range(len(saveTestConversion[i])) :\n",
    "        saveDataTest[i][j] = saveTestConversion[i][j] * bobotCriteria[i]\n",
    "            \n",
    "# print(saveDataTest)"
   ]
  },
  {
   "cell_type": "code",
   "execution_count": null,
   "metadata": {},
   "outputs": [],
   "source": [
    "# Simpan menjadi sebuah file Excel dari Normalized dan Nilai Vektor S\n",
    "dftA = pd.DataFrame(tA)\n",
    "dftA = dftA.transpose()\n",
    "dftB = pd.DataFrame(tB)\n",
    "dfSaveDataTest = pd.DataFrame(saveDataTest)\n",
    "writer = ExcelWriter('Result WSM\\\\vektor s penilaian.xlsx')\n",
    "dftA.to_excel(writer,'Sheet1',index=False,header=False)\n",
    "dftB.to_excel(writer,'Sheet1',index=False,header=False,startrow=1)\n",
    "dfSaveDataTest.to_excel(writer,'Sheet1',index=False,header=False,startrow=1,startcol=1)\n",
    "writer.save()"
   ]
  },
  {
   "cell_type": "code",
   "execution_count": null,
   "metadata": {},
   "outputs": [],
   "source": [
    "\"\"\"\n",
    "Menghitung nilai Vektor V sebagai Langkah akhir\n",
    "\"\"\""
   ]
  },
  {
   "cell_type": "code",
   "execution_count": null,
   "metadata": {},
   "outputs": [],
   "source": [
    "test_gelombang_one_normalize = pd.read_excel('Result WSM\\\\vektor s penilaian.xlsx')\n",
    "saveTestNormalize = test_gelombang_one_normalize.iloc[:, 1:].values\n",
    "jumlahRow = test_gelombang_one_normalize.count(axis = 1)[1] - 1\n",
    "# print(saveTestNormalize)"
   ]
  },
  {
   "cell_type": "code",
   "execution_count": null,
   "metadata": {},
   "outputs": [],
   "source": [
    "# Proses Menghitung nilai Vektor V\n",
    "listSumDividerX = []\n",
    "for i in range(jumlahRow):\n",
    "    countSementara = 0\n",
    "    dataTestConversionNew = test_gelombang_one_normalize.iloc[:,i+1].values\n",
    "    for i in range(len(dataTestConversionNew)) :\n",
    "        countSementara += dataTestConversionNew[i]\n",
    "    listSumDividerX.append( countSementara )    \n",
    "\n",
    "# print(listSumDividerX)"
   ]
  },
  {
   "cell_type": "code",
   "execution_count": null,
   "metadata": {},
   "outputs": [],
   "source": [
    "# Lalu setiap nilai akan dibagi dengan hasil turunan per column dari nilai vektor S kebawah\n",
    "nilaiVektorS = []\n",
    "for i in range(len(listSumDividerX)) :\n",
    "    nilaiVektorS.append(listSumDividerX[i] / sum(listSumDividerX))\n",
    "print(nilaiVektorS)    "
   ]
  },
  {
   "cell_type": "code",
   "execution_count": null,
   "metadata": {},
   "outputs": [],
   "source": [
    "# Simpan menjadi sebuah file Excel dari Normalized dan Nilai Vektor V\n",
    "dftA = pd.DataFrame(tA[1:])\n",
    "dftB = pd.DataFrame(['Nama','Hasil'])\n",
    "dftB = dftB.transpose()\n",
    "dfNilaiVektorS = pd.DataFrame(nilaiVektorS)\n",
    "writer = ExcelWriter('Result WSM\\\\vektor v penilaian.xlsx')\n",
    "dftA.to_excel(writer,'Sheet1',index=False,header=False,startrow=1)\n",
    "dftB.to_excel(writer,'Sheet1',index=False,header=False)\n",
    "dfNilaiVektorS.to_excel(writer,'Sheet1',index=False,header=False,startrow=1,startcol=1)\n",
    "writer.save()"
   ]
  },
  {
   "cell_type": "code",
   "execution_count": null,
   "metadata": {},
   "outputs": [],
   "source": [
    "# Hasil Akhir diantaranya seperti ini :\n",
    "test_gelombang_one_first = pd.read_excel('penilaian hp.xlsx')\n",
    "test_gelombang_one_end = pd.read_excel('Result WSM\\\\vektor v penilaian.xlsx')\n",
    "\n",
    "print(test_gelombang_one_first.iloc[:, 1:])\n",
    "print()\n",
    "# Maka kita bisa mengambil potensi nilai tertinggi (Melakukan Pengurutan Dari Terbesar ke Terkecil)\n",
    "print(test_gelombang_one_end.sort_values(by=['Hasil'], ascending=False))\n",
    "print()\n",
    "# Jika sesuai kapasistas tertentu seperti hanya 3 orang dari 10 orang yang ikut maka akan ditampilkan, yang lain gagal\n",
    "print(test_gelombang_one_end.sort_values(by=['Hasil'], ascending=False).iloc[:3])"
   ]
  }
 ],
 "metadata": {
  "kernelspec": {
   "display_name": "Python 3",
   "language": "python",
   "name": "python3"
  },
  "language_info": {
   "codemirror_mode": {
    "name": "ipython",
    "version": 3
   },
   "file_extension": ".py",
   "mimetype": "text/x-python",
   "name": "python",
   "nbconvert_exporter": "python",
   "pygments_lexer": "ipython3",
   "version": "3.6.5"
  }
 },
 "nbformat": 4,
 "nbformat_minor": 2
}
