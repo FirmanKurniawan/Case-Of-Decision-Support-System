{
 "cells": [
  {
   "cell_type": "code",
   "execution_count": null,
   "metadata": {},
   "outputs": [],
   "source": [
    "\"\"\"\n",
    "Implementasi SPK kepada sebuah Universitas berdasarkan nilai akademik saat SMA yang menjadi acuan atau keputusan \n",
    "untuk masuk ke universitas di Bali\n",
    "\n",
    "Sistem ini berasal dari sebuah Jurnal bernama :\n",
    "Decision Support System for the Selection of Courses in the Higher Education using the \n",
    "Method of Elimination Et Choix Tranduit La Realite (ELECTRE)\n",
    "\n",
    "\"\"\" "
   ]
  },
  {
   "cell_type": "code",
   "execution_count": null,
   "metadata": {},
   "outputs": [],
   "source": [
    "\"\"\"\n",
    "Karena agak panjang metodenya, perlu waktu lagi codingnya agak diganti prosesnya\n",
    "menggunakan metode Weighted Product\n",
    "\"\"\""
   ]
  },
  {
   "cell_type": "code",
   "execution_count": null,
   "metadata": {},
   "outputs": [],
   "source": [
    "\"\"\"\n",
    "Namun berhubung ingin menjelaskan sesuai yang ada pada jurnal tersebut maka diberikan contoh jika\n",
    "mahasiswa yarsi memiliki sistem untuk pengambilan keputusan mahasiswa yang ingin masuk kedalam Universitas YARSI\n",
    "\n",
    "Sistem untuk Mahasiswa Kedokteran atau Gigi yang masuk ke YARSI\n",
    "Kriteria yang mungkin diberikan :\n",
    "\n",
    "* Tes Pertama (Tes Kemampuan Dasar Akademik)\n",
    "1. Matematika\n",
    "2. Kimia\n",
    "3. Fisika\n",
    "4. Biologi\n",
    "\n",
    "* Tes Kedua\n",
    "5. Tes Bakat\n",
    "6. Kemampuan serta Tes Kesehatan Lanjutan\n",
    "\n",
    "* Kriteria tambahan cukup penting untuk penyelesaian kuliah\n",
    "7. Kapasitas ekonomi per 1 semester\n",
    "\n",
    "\"\"\""
   ]
  },
  {
   "cell_type": "code",
   "execution_count": null,
   "metadata": {},
   "outputs": [],
   "source": [
    "\"\"\"\n",
    "Maka setiap nilai akan direpresentasikan sebagai berikut :\n",
    "5 = nilai sangat bagus\n",
    "4 = nilai bagus\n",
    "3 = nilai yang cukup\n",
    "2 = nilai buruk\n",
    "1 = nilai sangat buruk\n",
    "\n",
    "Data input dari pengguna (nilai kartu laporan) dikonversi menjadi bobot preferensi berdasarkan pada\n",
    "kondisi berikut. (Semua Test Pertama dan Salah satu Test Kedua : Bakat)\n",
    "- Jika nilainya berada di kisaran 85 hingga 100, maka bobot preferensi adalah 5.\n",
    "- Jika nilainya berada di kisaran 80 hingga 84, maka bobot preferensi adalah 4.\n",
    "- Jika nilainya berada di kisaran 75 hingga 79, maka bobot preferensi adalah 3.\n",
    "- Jika nilainya berada di kisaran 65 hingga 74, maka bobot preferensi adalah 2.\n",
    "- Jika nilainya berada dalam kisaran 10 hingga 64, maka bobot preferensi adalah 1.\n",
    "\n",
    "(Salah satu Test Kedua : Kemampuan serta Tes Kesehatan Lanjutan)\n",
    "- Jika lolos test Pengecekan Darah | Urine | Buta Warna | Kesehatan Gigi | Kesehatan Paru - Paru, maka bobot preferensi adalah 5.\n",
    "- Jika lolos test Pengecekan Darah | Urine | Buta Warna | Kesehatan Paru - Paru, maka bobot preferensi adalah 4.\n",
    "- Jika lolos test Pengecekan Darah | Urine | Buta Warna, maka bobot preferensi adalah 3.\n",
    "- Jika lolos test Pengecekan Darah | Urine, maka bobot preferensi adalah 2.\n",
    "- Jika lolos test Pengecekan Darah, maka bobot preferensi adalah 1.\n",
    "\n",
    "Kemampuan ekonomi per 1 semester pengguna juga dikonversi menjadi bobot preferensi berdasarkan\n",
    "kondisi berikut.\n",
    "- Jika nilainya berada di kisaran Rp.450.000.000,00 hingga Rp.550.000.000,00 maka bobot preferensi adalah 5.\n",
    "- Jika nilainya berada di kisaran Rp.300.000.000,00 hingga Rp.400.000.000,00 maka bobot preferensi adalah 4.\n",
    "- Jika nilainya berada di kisaran Rp.100.000.000,00 hingga Rp.250.000.000,00 maka bobot preferensi adalah 3.\n",
    "- Jika nilainya berada di kisaran Rp. 50.000.000,00 hingga Rp. 90.000.000,00 maka bobot preferensi adalah 2.\n",
    "- Jika nilainya berada di kisaran Rp. 10.000.000,00 hingga Rp. 30.000.000,00 maka bobot preferensi adalah 1.\n",
    "\n",
    "\"\"\""
   ]
  },
  {
   "cell_type": "code",
   "execution_count": null,
   "metadata": {},
   "outputs": [],
   "source": [
    "\"\"\"\n",
    "Langkah-langkah dari Weighted Product (WP)\n",
    "1. Menentukan kriteria-kriteria yang akan dijadikan acuan dalam pengambilan keputusan.\n",
    "2. Menentukan input awal dan input akhir untuk merubah nama inputan menjadi nilai rating kecocokan dan menentukan bobot setiap kriteria.\n",
    "3. Mengubah data inputan menjadi nilai rating kecocokan\n",
    "4. Melakukan perbaikan bobot dari setiap kriteria dengan cara menjumlahkan bobot setiap kriteria yang dilanjutkan dengan setiap bobot awal kriteria dibagi dengan hasil penjumlahan bobot kriteria\n",
    "5. Menentukan nilai vektor S alternatif dengan cara mengalikan data nilai rating kecocokan yang berpangkat positif dari hasil perbaikan bobot kriteria\n",
    "\"\"\""
   ]
  },
  {
   "cell_type": "code",
   "execution_count": null,
   "metadata": {},
   "outputs": [],
   "source": [
    "# Begin to code\n",
    "\n",
    "import pandas as pd\n",
    "import numpy as np\n",
    "from pandas import ExcelWriter\n",
    "from pandas import ExcelFile\n",
    "import math"
   ]
  },
  {
   "cell_type": "code",
   "execution_count": null,
   "metadata": {},
   "outputs": [],
   "source": [
    "# Baca dari file external yang telah diberikan\n",
    "pd.read_excel('penilaian test.xlsx')"
   ]
  },
  {
   "cell_type": "code",
   "execution_count": null,
   "metadata": {},
   "outputs": [],
   "source": [
    "# Pada Gelombang Pertama maka akan ada perubahan atau konversi dari 1 - 5 sesuai aturan\n",
    "# Pada kriteria : Matematika, Kimia, Fisika, Biologi\n",
    "test_gelombang_one = pd.read_excel('penilaian test tahap pertama.xlsx')"
   ]
  },
  {
   "cell_type": "code",
   "execution_count": null,
   "metadata": {},
   "outputs": [],
   "source": [
    "# Dapatkan Header alias Nama setiap file\n",
    "tA = pd.read_excel('penilaian test tahap pertama.xlsx').columns\n",
    "print(tA.values[1:])\n",
    "\n",
    "print()\n",
    "\n",
    "# Dapatkan Column disetiap atau Kriterianya\n",
    "tB = test_gelombang_one.iloc[:,0].values\n",
    "print(tB)"
   ]
  },
  {
   "cell_type": "code",
   "execution_count": null,
   "metadata": {},
   "outputs": [],
   "source": [
    "# Pada Gelombang Kedua maka akan ada perubahan atau konversi dari 1 - 5 sesuai aturan\n",
    "# Pada kriteria : Test Bakat dan Test Kesehatan\n",
    "pd.read_excel('penilaian test tahap kedua.xlsx')"
   ]
  },
  {
   "cell_type": "code",
   "execution_count": null,
   "metadata": {},
   "outputs": [],
   "source": [
    "def conversionAllNumberInput(conversion):\n",
    "    # Conversion for every number of test\n",
    "    if 85 <= conversion <= 100:\n",
    "        return 5\n",
    "    elif 80 <= conversion <= 84:\n",
    "        return 4\n",
    "    elif 75 <= conversion <= 79:\n",
    "        return 3\n",
    "    elif 65 <= conversion <= 74:\n",
    "        return 2\n",
    "    elif 10 <= conversion <= 64:\n",
    "        return 1\n",
    "    else:\n",
    "        return 1"
   ]
  },
  {
   "cell_type": "code",
   "execution_count": null,
   "metadata": {},
   "outputs": [],
   "source": [
    "# Ambil seluruh data dan lakukan konversi\n",
    "print(test_gelombang_one.iloc[:, 1:])\n",
    "dataTestValues = test_gelombang_one.iloc[:, 1:].values\n",
    "dataTest = test_gelombang_one.iloc[:, 1:].values\n",
    "\n",
    "print()        \n",
    "print(dataTestValues)\n",
    "\n",
    "# Konversi seluruh data sesuai range yang sudah ditentukan\n",
    "for i in range(len(dataTestValues)) :  \n",
    "    for j in range(len(dataTestValues[i])) :\n",
    "        dataTestValues[i][j] = conversionAllNumberInput(dataTestValues[i][j])\n",
    "\n",
    "print()        \n",
    "print(dataTestValues)"
   ]
  },
  {
   "cell_type": "code",
   "execution_count": null,
   "metadata": {},
   "outputs": [],
   "source": [
    "# Simpan menjadi sebuah file Excel\n",
    "dftA = pd.DataFrame(tA)\n",
    "dftA = dftA.transpose()\n",
    "dftB = pd.DataFrame(tB)\n",
    "dfConversion = pd.DataFrame(dataTestValues)\n",
    "writer = ExcelWriter('Result WP\\konversi penilaian.xlsx')\n",
    "dftA.to_excel(writer,'Sheet1',index=False,header=False)\n",
    "dftB.to_excel(writer,'Sheet1',index=False,header=False,startrow=1)\n",
    "dfConversion.to_excel(writer,'Sheet1',index=False,header=False,startrow=1,startcol=1)\n",
    "writer.save()"
   ]
  },
  {
   "cell_type": "code",
   "execution_count": null,
   "metadata": {},
   "outputs": [],
   "source": [
    "\"\"\"\n",
    "Karena setiap kriteria ('Matematika' 'Kimia' 'Fisika' 'Biologi') harus memiliki bobot\n",
    "berhubung karena bobot setiap test semua kemungkinan sama maka akan sedikit perkiraan saja\n",
    "Matematika bobot nya : 2\n",
    "Kimia bobotnya : 3\n",
    "Fisika bobotnya : 2\n",
    "Biologi bobotnya : 7\n",
    "\"\"\" \n",
    "bobotCriteria = [1,1,1,1] # Penentuan bobot (EQUAL)\n",
    "# bobotCriteria = [2,3,2,7] # Penentuan bobot"
   ]
  },
  {
   "cell_type": "code",
   "execution_count": null,
   "metadata": {},
   "outputs": [],
   "source": [
    "# Hasil yang nilai yang telah dikonversikan\n",
    "test_gelombang_one_conversion = pd.read_excel('Result\\konversi penilaian.xlsx')\n",
    "print(test_gelombang_one_conversion.iloc[:, 1:])"
   ]
  },
  {
   "cell_type": "code",
   "execution_count": null,
   "metadata": {},
   "outputs": [],
   "source": [
    "# Simpan Data untuk Selanjutnya\n",
    "saveTestConversion = test_gelombang_one_conversion.iloc[:, 1:].values\n",
    "saveTest = test_gelombang_one_conversion.iloc[:, 1:].values\n",
    "print(saveTest)\n",
    "\n",
    "print()\n",
    "\n",
    "# Buat Sistem menjadi list multidimensional\n",
    "jumlahRow = test_gelombang_one_conversion.count(axis = 1)[1] - 1\n",
    "jumlahColumn = test_gelombang_one_conversion.count(axis = 0)[1]\n",
    "saveDataTest = [[0] * jumlahRow for i in range(jumlahColumn)]\n",
    "print(saveDataTest)"
   ]
  },
  {
   "cell_type": "code",
   "execution_count": null,
   "metadata": {},
   "outputs": [],
   "source": [
    "# Proses Normalisasi\n",
    "for i in range(len(saveTest)) :\n",
    "    bobotCriteria[i] = bobotCriteria[i] / sum(bobotCriteria)\n",
    "print(bobotCriteria)    "
   ]
  },
  {
   "cell_type": "code",
   "execution_count": null,
   "metadata": {},
   "outputs": [],
   "source": [
    "# Proses Menghitung Nilai Vector S\n",
    "for i in range(len(saveTestConversion)) :\n",
    "    for j in range(len(saveTestConversion[i])) :\n",
    "        if( ( len(bobotCriteria) / 2) > i):\n",
    "            saveDataTest[i][j] = saveTestConversion[i][j] ** bobotCriteria[i]\n",
    "        else:\n",
    "            saveDataTest[i][j] = saveTestConversion[i][j] ** -bobotCriteria[i]\n",
    "            \n",
    "# print(saveDataTest)            "
   ]
  },
  {
   "cell_type": "code",
   "execution_count": null,
   "metadata": {},
   "outputs": [],
   "source": [
    "# Simpan menjadi sebuah file Excel dari Normalized dan Nilai Vektor S\n",
    "dftA = pd.DataFrame(tA)\n",
    "dftA = dftA.transpose()\n",
    "dftB = pd.DataFrame(tB)\n",
    "dfSaveDataTest = pd.DataFrame(saveDataTest)\n",
    "writer = ExcelWriter('Result WP\\\\normalized penilaian.xlsx')\n",
    "dftA.to_excel(writer,'Sheet1',index=False,header=False)\n",
    "dftB.to_excel(writer,'Sheet1',index=False,header=False,startrow=1)\n",
    "dfSaveDataTest.to_excel(writer,'Sheet1',index=False,header=False,startrow=1,startcol=1)\n",
    "writer.save()"
   ]
  },
  {
   "cell_type": "code",
   "execution_count": null,
   "metadata": {},
   "outputs": [],
   "source": [
    "\"\"\"\n",
    "Menghitung nilai Vektor V sebagai Langkah akhir\n",
    "\"\"\""
   ]
  },
  {
   "cell_type": "code",
   "execution_count": null,
   "metadata": {},
   "outputs": [],
   "source": [
    "test_gelombang_one_normalize = pd.read_excel('Result WP\\\\normalized penilaian.xlsx')\n",
    "saveTestNormalize = test_gelombang_one_normalize.iloc[:, 1:].values\n",
    "jumlahRow = test_gelombang_one_normalize.count(axis = 1)[1] - 1\n",
    "# print(saveTestNormalize)"
   ]
  },
  {
   "cell_type": "code",
   "execution_count": null,
   "metadata": {},
   "outputs": [],
   "source": [
    "# Proses Menghitung nilai Vektor V\n",
    "listSumDividerX = []\n",
    "for i in range(jumlahRow):\n",
    "    countSementara = 0\n",
    "    dataTestConversionNew = test_gelombang_one_normalize.iloc[:,i+1].values\n",
    "    for i in range(len(dataTestConversionNew)) :\n",
    "        countSementara += dataTestConversionNew[i]\n",
    "    listSumDividerX.append( countSementara )    \n",
    "\n",
    "# print(listSumDividerX)"
   ]
  },
  {
   "cell_type": "code",
   "execution_count": null,
   "metadata": {},
   "outputs": [],
   "source": [
    "# Lalu setiap nilai akan dibagi dengan hasil turunan per column dari nilai vektor S kebawah\n",
    "nilaiVektorS = []\n",
    "for i in range(len(listSumDividerX)) :\n",
    "    nilaiVektorS.append(listSumDividerX[i] / sum(listSumDividerX))\n",
    "print(nilaiVektorS)        "
   ]
  },
  {
   "cell_type": "code",
   "execution_count": null,
   "metadata": {},
   "outputs": [],
   "source": [
    "# Simpan menjadi sebuah file Excel dari Normalized dan Nilai Vektor S\n",
    "dftA = pd.DataFrame(tA[1:])\n",
    "dftB = pd.DataFrame(['Nama','Hasil'])\n",
    "dftB = dftB.transpose()\n",
    "dfNilaiVektorS = pd.DataFrame(nilaiVektorS)\n",
    "writer = ExcelWriter('Result WP\\\\normalized penilaian vektor s.xlsx')\n",
    "dftA.to_excel(writer,'Sheet1',index=False,header=False,startrow=1)\n",
    "dftB.to_excel(writer,'Sheet1',index=False,header=False)\n",
    "dfNilaiVektorS.to_excel(writer,'Sheet1',index=False,header=False,startrow=1,startcol=1)\n",
    "writer.save()"
   ]
  },
  {
   "cell_type": "code",
   "execution_count": null,
   "metadata": {},
   "outputs": [],
   "source": [
    "# Hasil Akhir diantaranya seperti ini :\n",
    "test_gelombang_one_first = pd.read_excel('penilaian test tahap pertama.xlsx')\n",
    "test_gelombang_one_end = pd.read_excel('Result WP\\\\normalized penilaian vektor s.xlsx')\n",
    "\n",
    "print(test_gelombang_one_first.iloc[:, 1:])\n",
    "print()\n",
    "# Maka kita bisa mengambil potensi nilai tertinggi (Melakukan Pengurutan Dari Terbesar ke Terkecil)\n",
    "print(test_gelombang_one_end.sort_values(by=['Hasil'], ascending=False))\n",
    "print()\n",
    "# Jika sesuai kapasistas tertentu seperti hanya 3 orang dari 10 orang yang ikut maka akan ditampilkan, yang lain gagal\n",
    "print(test_gelombang_one_end.sort_values(by=['Hasil'], ascending=False).iloc[:3])"
   ]
  }
 ],
 "metadata": {
  "kernelspec": {
   "display_name": "Python 3",
   "language": "python",
   "name": "python3"
  },
  "language_info": {
   "codemirror_mode": {
    "name": "ipython",
    "version": 3
   },
   "file_extension": ".py",
   "mimetype": "text/x-python",
   "name": "python",
   "nbconvert_exporter": "python",
   "pygments_lexer": "ipython3",
   "version": "3.6.5"
  }
 },
 "nbformat": 4,
 "nbformat_minor": 2
}
