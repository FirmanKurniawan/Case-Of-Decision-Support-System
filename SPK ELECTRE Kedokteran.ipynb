{
 "cells": [
  {
   "cell_type": "code",
   "execution_count": null,
   "metadata": {},
   "outputs": [],
   "source": [
    "\"\"\"\n",
    "Implementasi SPK kepada sebuah Universitas berdasarkan nilai akademik saat SMA yang menjadi acuan atau keputusan \n",
    "untuk masuk ke universitas di Bali\n",
    "\n",
    "Sistem ini berasal dari sebuah Jurnal bernama :\n",
    "Decision Support System for the Selection of Courses in the Higher Education using the \n",
    "Method of Elimination Et Choix Tranduit La Realite (ELECTRE)\n",
    "\n",
    "\"\"\" "
   ]
  },
  {
   "cell_type": "code",
   "execution_count": null,
   "metadata": {},
   "outputs": [],
   "source": [
    "\"\"\"\n",
    "Namun berhubung ingin menjelaskan sesuai yang ada pada jurnal tersebut maka diberikan contoh jika\n",
    "mahasiswa yarsi memiliki sistem untuk pengambilan keputusan mahasiswa yang ingin masuk kedalam Universitas YARSI\n",
    "\n",
    "Sistem untuk Mahasiswa Kedokteran atau Gigi yang masuk ke YARSI\n",
    "Kriteria yang mungkin diberikan :\n",
    "\n",
    "* Tes Pertama (Tes Kemampuan Dasar Akademik)\n",
    "1. Matematika\n",
    "2. Kimia\n",
    "3. Fisika\n",
    "4. Biologi\n",
    "\n",
    "* Tes Kedua\n",
    "5. Tes Bakat\n",
    "6. Kemampuan serta Tes Kesehatan Lanjutan\n",
    "\n",
    "* Kriteria tambahan cukup penting untuk penyelesaian kuliah\n",
    "7. Kapasitas ekonomi per 1 semester\n",
    "\n",
    "\"\"\""
   ]
  },
  {
   "cell_type": "code",
   "execution_count": null,
   "metadata": {},
   "outputs": [],
   "source": [
    "\"\"\"\n",
    "Maka setiap nilai akan direpresentasikan sebagai berikut :\n",
    "5 = nilai sangat bagus\n",
    "4 = nilai bagus\n",
    "3 = nilai yang cukup\n",
    "2 = nilai buruk\n",
    "1 = nilai sangat buruk\n",
    "\n",
    "Data input dari pengguna (nilai kartu laporan) dikonversi menjadi bobot preferensi berdasarkan pada\n",
    "kondisi berikut. (Semua Test Pertama dan Salah satu Test Kedua : Bakat)\n",
    "- Jika nilainya berada di kisaran 85 hingga 100, maka bobot preferensi adalah 5.\n",
    "- Jika nilainya berada di kisaran 80 hingga 84, maka bobot preferensi adalah 4.\n",
    "- Jika nilainya berada di kisaran 75 hingga 79, maka bobot preferensi adalah 3.\n",
    "- Jika nilainya berada di kisaran 65 hingga 74, maka bobot preferensi adalah 2.\n",
    "- Jika nilainya berada dalam kisaran 10 hingga 64, maka bobot preferensi adalah 1.\n",
    "\n",
    "(Salah satu Test Kedua : Kemampuan serta Tes Kesehatan Lanjutan)\n",
    "- Jika lolos test Pengecekan Darah | Urine | Buta Warna | Kesehatan Gigi | Kesehatan Paru - Paru, maka bobot preferensi adalah 5.\n",
    "- Jika lolos test Pengecekan Darah | Urine | Buta Warna | Kesehatan Paru - Paru, maka bobot preferensi adalah 4.\n",
    "- Jika lolos test Pengecekan Darah | Urine | Buta Warna, maka bobot preferensi adalah 3.\n",
    "- Jika lolos test Pengecekan Darah | Urine, maka bobot preferensi adalah 2.\n",
    "- Jika lolos test Pengecekan Darah, maka bobot preferensi adalah 1.\n",
    "\n",
    "Kemampuan ekonomi per 1 semester pengguna juga dikonversi menjadi bobot preferensi berdasarkan\n",
    "kondisi berikut.\n",
    "- Jika nilainya berada di kisaran Rp.450.000.000,00 hingga Rp.550.000.000,00 maka bobot preferensi adalah 5.\n",
    "- Jika nilainya berada di kisaran Rp.300.000.000,00 hingga Rp.400.000.000,00 maka bobot preferensi adalah 4.\n",
    "- Jika nilainya berada di kisaran Rp.100.000.000,00 hingga Rp.250.000.000,00 maka bobot preferensi adalah 3.\n",
    "- Jika nilainya berada di kisaran Rp. 50.000.000,00 hingga Rp. 90.000.000,00 maka bobot preferensi adalah 2.\n",
    "- Jika nilainya berada di kisaran Rp. 10.000.000,00 hingga Rp. 30.000.000,00 maka bobot preferensi adalah 1.\n",
    "\n",
    "\"\"\""
   ]
  },
  {
   "cell_type": "code",
   "execution_count": 71,
   "metadata": {},
   "outputs": [],
   "source": [
    "# Begin to code\n",
    "\n",
    "import pandas as pd\n",
    "import numpy as np\n",
    "from pandas import ExcelWriter\n",
    "from pandas import ExcelFile\n",
    "import math"
   ]
  },
  {
   "cell_type": "code",
   "execution_count": null,
   "metadata": {},
   "outputs": [],
   "source": [
    "# Baca dari file external yang telah diberikan\n",
    "pd.read_excel('penilaian test.xlsx')"
   ]
  },
  {
   "cell_type": "code",
   "execution_count": 2,
   "metadata": {},
   "outputs": [],
   "source": [
    "# Pada Gelombang Pertama maka akan ada perubahan atau konversi dari 1 - 5 sesuai aturan\n",
    "# Pada kriteria : Matematika, Kimia, Fisika, Biologi\n",
    "test_gelombang_one = pd.read_excel('penilaian test tahap pertama.xlsx')"
   ]
  },
  {
   "cell_type": "code",
   "execution_count": 10,
   "metadata": {},
   "outputs": [
    {
     "name": "stdout",
     "output_type": "stream",
     "text": [
      "['Anda' 'Aman' 'Santi' 'Santo' 'Bambang' 'Ester' 'Andi' 'Kunto' 'Aji'\n",
      " 'Maling']\n",
      "\n",
      "['Matematika' 'Kimia' 'Fisika' 'Biologi']\n"
     ]
    }
   ],
   "source": [
    "# Dapatkan Header alias Nama setiap file\n",
    "tA = pd.read_excel('penilaian test tahap pertama.xlsx').columns\n",
    "print(tA.values[1:])\n",
    "\n",
    "print()\n",
    "\n",
    "# Dapatkan Column disetiap atau Kriterianya\n",
    "tB = test_gelombang_one.iloc[:,0].values\n",
    "print(tB)"
   ]
  },
  {
   "cell_type": "code",
   "execution_count": null,
   "metadata": {},
   "outputs": [],
   "source": [
    "# Pada Gelombang Kedua maka akan ada perubahan atau konversi dari 1 - 5 sesuai aturan\n",
    "# Pada kriteria : Test Bakat dan Test Kesehatan\n",
    "pd.read_excel('penilaian test tahap kedua.xlsx')"
   ]
  },
  {
   "cell_type": "code",
   "execution_count": 4,
   "metadata": {},
   "outputs": [],
   "source": [
    "def conversionAllNumberInput(conversion):\n",
    "    # Conversion for every number of test\n",
    "    if 85 <= conversion <= 100:\n",
    "        return 5\n",
    "    elif 80 <= conversion <= 84:\n",
    "        return 4\n",
    "    elif 75 <= conversion <= 79:\n",
    "        return 3\n",
    "    elif 65 <= conversion <= 74:\n",
    "        return 2\n",
    "    elif 10 <= conversion <= 64:\n",
    "        return 1\n",
    "    else:\n",
    "        return 1"
   ]
  },
  {
   "cell_type": "code",
   "execution_count": 5,
   "metadata": {},
   "outputs": [
    {
     "name": "stdout",
     "output_type": "stream",
     "text": [
      "   Anda  Aman  Santi  Santo  Bambang  Ester  Andi  Kunto  Aji  Maling\n",
      "0    80    90     90    100       70     59    47     68   94      21\n",
      "1    79    70     66     45       80     88    34     77   56      13\n",
      "2    70    77     67     66       77     79    67     78   46      33\n",
      "3    60    67     60     77       62     69    68     77   65      66\n",
      "\n",
      "[[ 80  90  90 100  70  59  47  68  94  21]\n",
      " [ 79  70  66  45  80  88  34  77  56  13]\n",
      " [ 70  77  67  66  77  79  67  78  46  33]\n",
      " [ 60  67  60  77  62  69  68  77  65  66]]\n",
      "\n",
      "[[4 5 5 5 2 1 1 2 5 1]\n",
      " [3 2 2 1 4 5 1 3 1 1]\n",
      " [2 3 2 2 3 3 2 3 1 1]\n",
      " [1 2 1 3 1 2 2 3 2 2]]\n"
     ]
    }
   ],
   "source": [
    "# Ambil seluruh data dan lakukan konversi\n",
    "print(test_gelombang_one.iloc[:, 1:])\n",
    "dataTestValues = test_gelombang_one.iloc[:, 1:].values\n",
    "dataTest = test_gelombang_one.iloc[:, 1:].values\n",
    "\n",
    "print()        \n",
    "print(dataTestValues)\n",
    "\n",
    "# Konversi seluruh data sesuai range yang sudah ditentukan\n",
    "for i in range(len(dataTestValues)) :  \n",
    "    for j in range(len(dataTestValues[i])) :\n",
    "        dataTestValues[i][j] = conversionAllNumberInput(dataTestValues[i][j])\n",
    "\n",
    "print()        \n",
    "print(dataTestValues)"
   ]
  },
  {
   "cell_type": "code",
   "execution_count": 19,
   "metadata": {},
   "outputs": [],
   "source": [
    "# Simpan menjadi sebuah file Excel\n",
    "dftA = pd.DataFrame(tA)\n",
    "dftA = dftA.transpose()\n",
    "dftB = pd.DataFrame(tB)\n",
    "dfConversion = pd.DataFrame(dataTestValues)\n",
    "writer = ExcelWriter('Result\\konversi penilaian.xlsx')\n",
    "dftA.to_excel(writer,'Sheet1',index=False,header=False)\n",
    "dftB.to_excel(writer,'Sheet1',index=False,header=False,startrow=1)\n",
    "dfConversion.to_excel(writer,'Sheet1',index=False,header=False,startrow=1,startcol=1)\n",
    "writer.save()"
   ]
  },
  {
   "cell_type": "code",
   "execution_count": null,
   "metadata": {},
   "outputs": [],
   "source": [
    "\"\"\"\n",
    "Setelah melakukan konversi lalu mulai mengerjakan proses dari bagian teknik menggunakan metode ELECTRE\n",
    "1. Perbandingan Berpasangan Ternormalisasi\n",
    "\"\"\""
   ]
  },
  {
   "cell_type": "code",
   "execution_count": 214,
   "metadata": {},
   "outputs": [
    {
     "name": "stdout",
     "output_type": "stream",
     "text": [
      "   Anda  Aman  Santi  Santo  Bambang  Ester  Andi  Kunto  Aji  Maling\n",
      "0     4     5      5      5        2      1     1      2    5       1\n",
      "1     3     2      2      1        4      5     1      3    1       1\n",
      "2     2     3      2      2        3      3     2      3    1       1\n",
      "3     1     2      1      3        1      2     2      3    2       2\n"
     ]
    }
   ],
   "source": [
    "# Hasil yang nilai yang telah dikonversikan\n",
    "test_gelombang_one_conversion = pd.read_excel('Result\\konversi penilaian.xlsx')\n",
    "print(test_gelombang_one_conversion.iloc[:, 1:])"
   ]
  },
  {
   "cell_type": "code",
   "execution_count": 215,
   "metadata": {},
   "outputs": [
    {
     "name": "stdout",
     "output_type": "stream",
     "text": [
      "[[4 5 5 5 2 1 1 2 5 1]\n",
      " [3 2 2 1 4 5 1 3 1 1]\n",
      " [2 3 2 2 3 3 2 3 1 1]\n",
      " [1 2 1 3 1 2 2 3 2 2]]\n",
      "[[0, 0, 0, 0, 0, 0, 0, 0, 0, 0], [0, 0, 0, 0, 0, 0, 0, 0, 0, 0], [0, 0, 0, 0, 0, 0, 0, 0, 0, 0], [0, 0, 0, 0, 0, 0, 0, 0, 0, 0]]\n"
     ]
    }
   ],
   "source": [
    "# Simpan Data untuk Selanjutnya\n",
    "saveTestConversion = test_gelombang_one_conversion.iloc[:, 1:].values\n",
    "saveTest = test_gelombang_one_conversion.iloc[:, 1:].values\n",
    "print(saveTest)\n",
    "\n",
    "# Buat Sistem menjadi list multidimensional\n",
    "jumlahRow = test_gelombang_one_conversion.count(axis = 1)[1] - 1\n",
    "jumlahColumn = test_gelombang_one_conversion.count(axis = 0)[1]\n",
    "saveDataTest = [[0] * jumlahRow for i in range(jumlahColumn)]\n",
    "print(saveDataTest)"
   ]
  },
  {
   "cell_type": "code",
   "execution_count": 216,
   "metadata": {},
   "outputs": [
    {
     "name": "stdout",
     "output_type": "stream",
     "text": [
      "[5.477225575051661, 6.48074069840786, 5.830951894845301, 6.244997998398398, 5.477225575051661, 6.244997998398398, 3.1622776601683795, 5.5677643628300215, 5.5677643628300215, 2.6457513110645907]\n"
     ]
    }
   ],
   "source": [
    "# Dapatkan Nilai Sum Pangkat dan Akar kuadratnya\n",
    "listSumSQRT = []\n",
    "jumlahOrangTest = test_gelombang_one_conversion.count(axis = 1)[1] - 1\n",
    "\n",
    "for i in range(jumlahOrangTest):\n",
    "    countSementara = 0\n",
    "    dataTestConversionNew = test_gelombang_one_conversion.iloc[:,i+1].values\n",
    "    for i in range(len(dataTestConversionNew)) :\n",
    "        countSementara += dataTestConversionNew[i] ** 2\n",
    "    listSumSQRT.append( math.sqrt(countSementara) )    \n",
    "\n",
    "print(listSumSQRT)"
   ]
  },
  {
   "cell_type": "code",
   "execution_count": 217,
   "metadata": {},
   "outputs": [],
   "source": [
    "# Lalu setiap nilai akan dibagi dengan hasil turunan per column dari nilai sum per pangkat dan di kuadratkan\n",
    "nilaiPembagi = 0\n",
    "for i in range(len(saveTest)) :\n",
    "    nilaiPembagi = listSumSQRT[i]\n",
    "    for j in range(len(saveTest[i])) :\n",
    "        saveDataTest[i][j] = saveTest[i][j] / nilaiPembagi"
   ]
  },
  {
   "cell_type": "code",
   "execution_count": 218,
   "metadata": {},
   "outputs": [
    {
     "name": "stdout",
     "output_type": "stream",
     "text": [
      "[[4 5 5 5 2 1 1 2 5 1]\n",
      " [3 2 2 1 4 5 1 3 1 1]\n",
      " [2 3 2 2 3 3 2 3 1 1]\n",
      " [1 2 1 3 1 2 2 3 2 2]]\n",
      "\n",
      "[[0.7302967433402214, 0.9128709291752769, 0.9128709291752769, 0.9128709291752769, 0.3651483716701107, 0.18257418583505536, 0.18257418583505536, 0.3651483716701107, 0.9128709291752769, 0.18257418583505536], [0.4629100498862757, 0.3086066999241838, 0.3086066999241838, 0.1543033499620919, 0.6172133998483676, 0.7715167498104595, 0.1543033499620919, 0.4629100498862757, 0.1543033499620919, 0.1543033499620919], [0.34299717028501764, 0.5144957554275265, 0.34299717028501764, 0.34299717028501764, 0.5144957554275265, 0.5144957554275265, 0.34299717028501764, 0.5144957554275265, 0.17149858514250882, 0.17149858514250882], [0.16012815380508713, 0.32025630761017426, 0.16012815380508713, 0.48038446141526137, 0.16012815380508713, 0.32025630761017426, 0.32025630761017426, 0.48038446141526137, 0.32025630761017426, 0.32025630761017426]]\n"
     ]
    }
   ],
   "source": [
    "print(saveTest)\n",
    "print()\n",
    "print(saveDataTest)"
   ]
  },
  {
   "cell_type": "code",
   "execution_count": 219,
   "metadata": {},
   "outputs": [],
   "source": [
    "# Simpan menjadi sebuah file Excel dari Normalized\n",
    "dftA = pd.DataFrame(tA)\n",
    "dftA = dftA.transpose()\n",
    "dftB = pd.DataFrame(tB)\n",
    "dfSaveDataTest = pd.DataFrame(saveDataTest)\n",
    "writer = ExcelWriter('Result\\\\normalized penilaian.xlsx')\n",
    "dftA.to_excel(writer,'Sheet1',index=False,header=False)\n",
    "dftB.to_excel(writer,'Sheet1',index=False,header=False,startrow=1)\n",
    "dfSaveDataTest.to_excel(writer,'Sheet1',index=False,header=False,startrow=1,startcol=1)\n",
    "writer.save()"
   ]
  },
  {
   "cell_type": "code",
   "execution_count": null,
   "metadata": {},
   "outputs": [],
   "source": [
    "\"\"\"\n",
    "Setelah melakukan normalisasi terhadap seluruh nilai maka akan lanjut melakukan proses weight dari seluruh nilai\n",
    "1. Menentukan Bobot tiap-tiap Kriteria\n",
    "2. Membentuk Matrik Preferensi\n",
    "\"\"\""
   ]
  },
  {
   "cell_type": "code",
   "execution_count": 220,
   "metadata": {},
   "outputs": [
    {
     "name": "stdout",
     "output_type": "stream",
     "text": [
      "[[0, 0, 0, 0, 0, 0, 0, 0, 0, 0], [0, 0, 0, 0, 0, 0, 0, 0, 0, 0], [0, 0, 0, 0, 0, 0, 0, 0, 0, 0], [0, 0, 0, 0, 0, 0, 0, 0, 0, 0]]\n"
     ]
    }
   ],
   "source": [
    "\"\"\"\n",
    "Karena setiap kriteria ('Matematika' 'Kimia' 'Fisika' 'Biologi') harus memiliki bobot\n",
    "berhubung karena bobot setiap test semua kemungkinan sama maka akan sedikit perkiraan saja\n",
    "Matematika bobot nya : 2\n",
    "Kimia bobotnya : 3\n",
    "Fisika bobotnya : 2\n",
    "Biologi bobotnya : 7\n",
    "\"\"\" \n",
    "bobotCriteria = [2,3,2,7] # Penentuan bobot\n",
    "\n",
    "# New List multidimensional\n",
    "jumlahRow = test_gelombang_one_conversion.count(axis = 1)[1] - 1\n",
    "jumlahColumn = test_gelombang_one_conversion.count(axis = 0)[1]\n",
    "weightNormalized = [[0] * jumlahRow for i in range(jumlahColumn)]\n",
    "print(weightNormalized)"
   ]
  },
  {
   "cell_type": "code",
   "execution_count": 221,
   "metadata": {},
   "outputs": [
    {
     "name": "stdout",
     "output_type": "stream",
     "text": [
      "0.18257418583505536 x 2 = 0.3651483716701107\n",
      "0.1543033499620919 x 3 = 0.4629100498862757\n",
      "0.17149858514250882 x 2 = 0.34299717028501764\n",
      "0.32025630761017426 x 7 = 2.24179415327122\n"
     ]
    }
   ],
   "source": [
    "# Menentukan dan melakukan Weighting the normalized pada matrix normalisasi yang sudah dibuat\n",
    "nilaiCriteria = 0\n",
    "for i in range(len(saveDataTest)) :\n",
    "    nilaiCriteria = bobotCriteria[i]\n",
    "    for j in range(len(saveTest[i])) :\n",
    "        weightNormalized[i][j] = saveDataTest[i][j] * nilaiCriteria\n",
    "        if(j == 9):\n",
    "            print(str(saveDataTest[i][j])+\" x \"+str(nilaiCriteria)+\" = \"+str(weightNormalized[i][j]))"
   ]
  },
  {
   "cell_type": "code",
   "execution_count": 222,
   "metadata": {},
   "outputs": [],
   "source": [
    "# Simpan ke Excel untuk hasil normalisasi weighting\n",
    "dftA = pd.DataFrame(tA)\n",
    "dftA = dftA.transpose()\n",
    "dftB = pd.DataFrame(tB)\n",
    "dfWeightNormalized = pd.DataFrame(weightNormalized)\n",
    "writer = ExcelWriter('Result\\\\weighting normalized penilaian.xlsx')\n",
    "dftA.to_excel(writer,'Sheet1',index=False,header=False)\n",
    "dftB.to_excel(writer,'Sheet1',index=False,header=False,startrow=1)\n",
    "dfWeightNormalized.to_excel(writer,'Sheet1',index=False,header=False,startrow=1,startcol=1)\n",
    "writer.save()"
   ]
  },
  {
   "cell_type": "code",
   "execution_count": null,
   "metadata": {},
   "outputs": [],
   "source": []
  }
 ],
 "metadata": {
  "kernelspec": {
   "display_name": "Python 3",
   "language": "python",
   "name": "python3"
  },
  "language_info": {
   "codemirror_mode": {
    "name": "ipython",
    "version": 3
   },
   "file_extension": ".py",
   "mimetype": "text/x-python",
   "name": "python",
   "nbconvert_exporter": "python",
   "pygments_lexer": "ipython3",
   "version": "3.6.5"
  }
 },
 "nbformat": 4,
 "nbformat_minor": 2
}
